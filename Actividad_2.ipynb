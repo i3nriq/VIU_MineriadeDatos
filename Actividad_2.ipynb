{
 "cells": [
  {
   "cell_type": "markdown",
   "id": "f0a601ac",
   "metadata": {},
   "source": [
    "\n",
    "<table width=\"100%\"  alignt=\"left\" position=\"absolute\"  style=\"font-family:verdana;font-size:10px\"  >\n",
    "<colgroup>\n",
    "<col  style=\"width: 180px\">\n",
    "</colgroup>\n",
    "<thead>\n",
    "  <tr >\n",
    "    <td   rowspan=\"5\">\n",
    "    <img  src=\"https://encrypted-tbn0.gstatic.com/images?q=tbn:ANd9GcQG0LSU20JCX7v7iAIc0FrPRJOloXv20rr1ZRV2DE6IuDXZwVc5Vf9awP7-mfHQXQl7BSI&usqp=CAU\" alt=\"drawing\" style=\"width:180px;\"/>\n",
    "    </td>\n",
    "    <td style=\"font-size:10px\" ><b>Universidad Internacional de Valencia</b></td>\n",
    "  </tr>\n",
    "  <tr>\n",
    "    <td  style=\"font-size:9px\"><b>Maestria en Big Data y Ciencia de Datos</b></td>\n",
    "  </tr>\n",
    "  <tr  style=\"font-size:9px\">\n",
    "    <td  >Minería de Datos - 2022</td>\n",
    "  </tr>\n",
    "  <tr  style=\"font-size:9px\">\n",
    "    <td  >Enrique Abraham Magnani Quiñonez</td>\n",
    "  </tr>\n",
    "  \n",
    "</thead>\n",
    "</table>\n"
   ]
  },
  {
   "cell_type": "code",
   "execution_count": null,
   "id": "18fae69e",
   "metadata": {},
   "outputs": [],
   "source": [
    "pip install pandas_profiling"
   ]
  },
  {
   "cell_type": "code",
   "execution_count": null,
   "id": "0a2e7c5f",
   "metadata": {},
   "outputs": [],
   "source": [
    "import numpy as np # librería para manejar datos vectorizados\n",
    "import warnings\n",
    "import pandas as pd # librería para análisis de datos\n",
    "pd.set_option('display.max_columns', None)\n",
    "pd.set_option('display.max_rows', None)\n",
    "import seaborn as sns\n",
    "import matplotlib.pyplot as plt\n",
    "import matplotlib.colors as colors\n",
    "import matplotlib as mpl\n",
    "import json # librería para manejar archivos JSON \n",
    "from sklearn.preprocessing import MinMaxScaler\n",
    "from pandas.io.json import json_normalize # librería para convertir un archivo json en un dataframe pandas\n",
    "import pandas_profiling\n",
    "#descomentar durante el desarrollo\n",
    "warnings.filterwarnings(\"ignore\")\n",
    "print('Librerias importadas.')"
   ]
  },
  {
   "cell_type": "markdown",
   "id": "f61c3e74",
   "metadata": {},
   "source": [
    "### Funciones"
   ]
  },
  {
   "cell_type": "markdown",
   "id": "bb5571ed",
   "metadata": {},
   "source": [
    "Carga via **Github** DataSet de datos transaccionales"
   ]
  },
  {
   "cell_type": "code",
   "execution_count": null,
   "id": "178c26f8",
   "metadata": {},
   "outputs": [],
   "source": [
    "#Carga de data transaccional\n",
    "def fn_data_df_transacciones():\n",
    "    try:\n",
    "        url_df_data_tarjeta='https://github.com/i3nriq/VIU_MineriadeDatos/blob/f0bc3c6aedda3082e55a6cd74336e9002a4cb591/Data/DS_Data_TJT.csv?raw=true'\n",
    "        import_df_data_tarjeta = pd.read_csv(url_df_data_tarjeta, encoding='latin-1')\n",
    "        print('Carga via Github..')\n",
    "    except:\n",
    "        print('Datos no cargados..')\n",
    "        import_df_data_tarjeta= None\n",
    "    return(import_df_data_tarjeta)"
   ]
  },
  {
   "cell_type": "markdown",
   "id": "d1b4deb7",
   "metadata": {},
   "source": [
    "Carga via **Github** DataSet de MCG."
   ]
  },
  {
   "cell_type": "code",
   "execution_count": null,
   "id": "1d2d0658",
   "metadata": {},
   "outputs": [],
   "source": [
    "#Carga de data MCG\n",
    "def fn_data_df_mcg():\n",
    "    try:\n",
    "        url_df_data_mcg='https://github.com/i3nriq/VIU_MineriadeDatos/blob/main/Data/DS_MCC_MCG.csv?raw=true'\n",
    "        import_df_data_mcg = pd.read_csv(url_df_data_mcg, encoding='latin-1')\n",
    "        print('Carga via Github..')\n",
    "    except:\n",
    "        print('Datos no cargados..')\n",
    "        import_df_data_mcg= None\n",
    "    return(import_df_data_mcg)"
   ]
  },
  {
   "cell_type": "markdown",
   "id": "2fdd2a60",
   "metadata": {},
   "source": [
    "Carga via **Github** DataSet de rangos de edades."
   ]
  },
  {
   "cell_type": "code",
   "execution_count": null,
   "id": "e1669a4c",
   "metadata": {},
   "outputs": [],
   "source": [
    "#Carga de data MCG\n",
    "def fn_data_df_rango_edad():\n",
    "    try:\n",
    "        url_df_data_rango_edad='https://github.com/i3nriq/VIU_MineriadeDatos/blob/main/Data/DS_RAN_EDAD.csv?raw=true'\n",
    "        import_df_data_rango_edad = pd.read_csv(url_df_data_rango_edad, encoding='latin-1')\n",
    "        print('Carga via Github..')\n",
    "    except:\n",
    "        print('Datos no cargados..')\n",
    "        import_df_data_rango_edad= None\n",
    "    return(import_df_data_rango_edad)"
   ]
  },
  {
   "cell_type": "markdown",
   "id": "5c2b7ee9",
   "metadata": {},
   "source": [
    "Top de catagorias MCG"
   ]
  },
  {
   "cell_type": "code",
   "execution_count": null,
   "id": "892f2272",
   "metadata": {},
   "outputs": [],
   "source": [
    "def retornat_top_mcg(row, num_top_venues):\n",
    "    row_categories = row.iloc[1:]\n",
    "    row_categories_sorted = row_categories.sort_values(ascending=False)\n",
    "    return row_categories_sorted.index.values[0:num_top_venues]"
   ]
  },
  {
   "cell_type": "markdown",
   "id": "ebe9237a",
   "metadata": {},
   "source": [
    "Analisis de DataFrame"
   ]
  },
  {
   "cell_type": "code",
   "execution_count": null,
   "id": "d47c9e89",
   "metadata": {},
   "outputs": [],
   "source": [
    "def fn_descripcion_dataFrame(i_df_desc):\n",
    "    print(\"Dimensiones dataframe: \",i_df_desc.shape)\n",
    "    print(\"\")\n",
    "    print(i_df_desc.dtypes)"
   ]
  },
  {
   "cell_type": "markdown",
   "id": "b539169c",
   "metadata": {},
   "source": [
    "## Variables globales"
   ]
  },
  {
   "cell_type": "markdown",
   "id": "67c3e733",
   "metadata": {},
   "source": [
    "#### Parametros"
   ]
  },
  {
   "cell_type": "code",
   "execution_count": null,
   "id": "5b08e905",
   "metadata": {},
   "outputs": [],
   "source": [
    "json_prioridad_metal='{\"BLACK\":\"1\",\"INFINITE\":\"2\",\"SIGNATURE\":\"3\",\"PLATINUM\":\"4\",\"ORO\":\"5\",\"CLASICA\":\"6\"}'"
   ]
  },
  {
   "cell_type": "markdown",
   "id": "48e00e92",
   "metadata": {},
   "source": [
    "# Carga de datos"
   ]
  },
  {
   "cell_type": "code",
   "execution_count": null,
   "id": "49747bb3",
   "metadata": {},
   "outputs": [],
   "source": [
    "#df_categorias_config=pd.merge(df_categorias_config, ( pd.DataFrame (abc_series, columns = ['Caracter'])), left_index=True, right_index=True)\n",
    "json_prioridad_metal = json.loads(json_prioridad_metal)\n",
    "\n",
    "df_prioridad_metal = pd.DataFrame.from_dict(json_prioridad_metal, orient=\"index\")\n",
    "df_prioridad_metal.rename(columns={0:'IND_PRIORIDAD'},inplace=True)\n",
    "\n",
    "df_prioridad_metal.index.name = 'METAL_TJT'\n",
    "df_prioridad_metal.reset_index(inplace=True)"
   ]
  },
  {
   "cell_type": "markdown",
   "id": "18880bb0",
   "metadata": {},
   "source": [
    "Data de transaccion de **VISA**"
   ]
  },
  {
   "cell_type": "code",
   "execution_count": null,
   "id": "13e8f892",
   "metadata": {},
   "outputs": [],
   "source": [
    "df_data_tarjeta=fn_data_df_transacciones()"
   ]
  },
  {
   "cell_type": "markdown",
   "id": "e66b4bde",
   "metadata": {},
   "source": [
    "Data de catalogos"
   ]
  },
  {
   "cell_type": "code",
   "execution_count": null,
   "id": "f8b5bae6",
   "metadata": {
    "scrolled": false
   },
   "outputs": [],
   "source": [
    "df_data_mcg=fn_data_df_mcg()"
   ]
  },
  {
   "cell_type": "code",
   "execution_count": null,
   "id": "e2849f74",
   "metadata": {},
   "outputs": [],
   "source": [
    "df_data_df_rango_edad=fn_data_df_rango_edad()"
   ]
  },
  {
   "cell_type": "code",
   "execution_count": null,
   "id": "b77692d3",
   "metadata": {
    "scrolled": true
   },
   "outputs": [],
   "source": [
    "fn_descripcion_dataFrame(df_data_tarjeta)\n",
    "df_data_tarjeta.head()"
   ]
  },
  {
   "cell_type": "code",
   "execution_count": null,
   "id": "568dd894",
   "metadata": {
    "scrolled": true
   },
   "outputs": [],
   "source": [
    "fn_descripcion_dataFrame(df_data_mcg)"
   ]
  },
  {
   "cell_type": "code",
   "execution_count": null,
   "id": "315cdfaa",
   "metadata": {},
   "outputs": [],
   "source": [
    "fn_descripcion_dataFrame(df_data_df_rango_edad)"
   ]
  },
  {
   "cell_type": "markdown",
   "id": "42331f55",
   "metadata": {},
   "source": [
    "Extraer datos de la transaccion de VISA"
   ]
  },
  {
   "cell_type": "code",
   "execution_count": null,
   "id": "2b2744f1",
   "metadata": {},
   "outputs": [],
   "source": [
    "df_data_tarjeta['DETALLE_MOVIMIENTO_VISA'] = df_data_tarjeta['DETALLE_MOVIMIENTO_VISA'].str.replace('[', '>>')\n",
    "df_data_tarjeta['DETALLE_MOVIMIENTO_VISA'] = df_data_tarjeta['DETALLE_MOVIMIENTO_VISA'].str.replace(']', '<<')\n",
    "\n",
    "pattern = '|'.join(['THTRX>>','<<-THTR','<<-FDTRX','MTRX:>>','FDTRX>>', '<<'])\n",
    "\n",
    "df_data_tarjeta['MONTO_TRX']=df_data_tarjeta['DETALLE_MOVIMIENTO_VISA'].str.extract(r'(?P<DETALLE_MOVIMIENTO_VISA>MTRX:>>.*.<<-FDTRX)')#.replace(\"RAIL\",\"\", inplace=True)\n",
    "df_data_tarjeta['MONEDA_TRX']=df_data_tarjeta['DETALLE_MOVIMIENTO_VISA'].str.extract(r'(?P<DETALLE_MOVIMIENTO_VISA>FDTRX>>.*.<<-THTR)')#.replace(\"RAIL\",\"\", inplace=True)\n",
    "df_data_tarjeta['TASA_TRX']=df_data_tarjeta['DETALLE_MOVIMIENTO_VISA'].str.extract(r'(?P<DETALLE_MOVIMIENTO_VISA>THTRX>>.*.<<)')\n",
    "\n",
    "del df_data_tarjeta['DETALLE_MOVIMIENTO_VISA']\n",
    "\n",
    "df_data_tarjeta['MONTO_TRX']=df_data_tarjeta['MONTO_TRX'].str.replace(pattern, '')\n",
    "df_data_tarjeta['MONEDA_TRX']=df_data_tarjeta['MONEDA_TRX'].str.replace(pattern, '')\n",
    "df_data_tarjeta['TASA_TRX']=df_data_tarjeta['TASA_TRX'].str.replace(pattern, '')"
   ]
  },
  {
   "cell_type": "code",
   "execution_count": null,
   "id": "0ef60d5a",
   "metadata": {
    "scrolled": false
   },
   "outputs": [],
   "source": [
    "df_data_tarjeta[df_data_tarjeta['C_RN']==4285].head()"
   ]
  },
  {
   "cell_type": "code",
   "execution_count": null,
   "id": "b77544ce",
   "metadata": {
    "scrolled": true
   },
   "outputs": [],
   "source": [
    "fn_descripcion_dataFrame(df_data_tarjeta)\n",
    "df_data_tarjeta.head()"
   ]
  },
  {
   "cell_type": "markdown",
   "id": "49c4b63a",
   "metadata": {},
   "source": [
    "## Valores perdidos"
   ]
  },
  {
   "cell_type": "code",
   "execution_count": null,
   "id": "ee8afe8c",
   "metadata": {},
   "outputs": [],
   "source": [
    "#df_data_tarjeta['DESCRIPCION_MCG'].isnull().values.any()\n",
    "#df_data_tarjeta['DESCRIPCION_MCG'].value_counts()"
   ]
  },
  {
   "cell_type": "code",
   "execution_count": null,
   "id": "e4a04cef",
   "metadata": {},
   "outputs": [],
   "source": [
    "df_data_tarjeta.isna().sum()"
   ]
  },
  {
   "cell_type": "markdown",
   "id": "2e158aa4",
   "metadata": {},
   "source": [
    "### Eliminar columnas"
   ]
  },
  {
   "cell_type": "markdown",
   "id": "bced9e90",
   "metadata": {},
   "source": [
    "Datos transaccionales"
   ]
  },
  {
   "cell_type": "code",
   "execution_count": null,
   "id": "aea703cb",
   "metadata": {},
   "outputs": [],
   "source": [
    "df_data_tarjeta = df_data_tarjeta[df_data_tarjeta['MONTO_TRX'].notna()]\n",
    "df_data_tarjeta = df_data_tarjeta[df_data_tarjeta['MONEDA_TRX'].notna()]\n",
    "df_data_tarjeta = df_data_tarjeta[df_data_tarjeta['TASA_TRX'].notna()]"
   ]
  },
  {
   "cell_type": "markdown",
   "id": "9c0bb735",
   "metadata": {},
   "source": [
    "Datos de Catalogo MCG"
   ]
  },
  {
   "cell_type": "code",
   "execution_count": null,
   "id": "ecb4f402",
   "metadata": {},
   "outputs": [],
   "source": [
    "df_data_mcg = df_data_mcg[df_data_mcg['DESC_MCC'].notna()]\n",
    "df_data_mcg = df_data_mcg[df_data_mcg['DESCRIPCION_MCG'].notna()]"
   ]
  },
  {
   "cell_type": "markdown",
   "id": "aa2d0fe6",
   "metadata": {},
   "source": [
    "Identificadores criticos"
   ]
  },
  {
   "cell_type": "code",
   "execution_count": null,
   "id": "2d35196e",
   "metadata": {},
   "outputs": [],
   "source": [
    "#Numero de cuenta\n",
    "df_data_tarjeta = df_data_tarjeta[df_data_tarjeta['C_RN'].notna()]\n",
    "\n",
    "#Codigo de cliente\n",
    "df_data_tarjeta = df_data_tarjeta[df_data_tarjeta['CL_RN'].notna()]"
   ]
  },
  {
   "cell_type": "code",
   "execution_count": null,
   "id": "b664278e",
   "metadata": {},
   "outputs": [],
   "source": [
    "df_data_tarjeta[df_data_tarjeta['C_RN']==4285].head(1000)"
   ]
  },
  {
   "cell_type": "markdown",
   "id": "31c3c40d",
   "metadata": {},
   "source": [
    "### Convertir Tipos de datos"
   ]
  },
  {
   "cell_type": "code",
   "execution_count": null,
   "id": "4c460df1",
   "metadata": {},
   "outputs": [],
   "source": [
    "#Fechas\n",
    "df_data_tarjeta = df_data_tarjeta.astype({\"FECHA_REAL_MOV\":\"datetime64[ns]\",\"FECHA_NACIMIENTO\":\"datetime64[ns]\",\"FEC_COSECHA\":\"datetime64[ns]\"})\n",
    "\n",
    "#Daatos Transaccionales\n",
    "df_data_tarjeta = df_data_tarjeta.astype({\"MONTO_TRX\":\"float64\",\"MONEDA_TRX\":\"int64\",\"TASA_TRX\":\"float64\"})"
   ]
  },
  {
   "cell_type": "code",
   "execution_count": null,
   "id": "86c85268",
   "metadata": {
    "scrolled": true
   },
   "outputs": [],
   "source": [
    "fn_descripcion_dataFrame(df_data_tarjeta)\n",
    "df_data_tarjeta.head()"
   ]
  },
  {
   "cell_type": "markdown",
   "id": "5bef89df",
   "metadata": {},
   "source": [
    "Conversion de indicador de prioridad de METAL"
   ]
  },
  {
   "cell_type": "code",
   "execution_count": null,
   "id": "3182a33c",
   "metadata": {},
   "outputs": [],
   "source": [
    "#Convertir indicador para modelo\n",
    "df_prioridad_metal = df_prioridad_metal.astype({\"IND_PRIORIDAD\":\"int64\"})"
   ]
  },
  {
   "cell_type": "code",
   "execution_count": null,
   "id": "4f266151",
   "metadata": {},
   "outputs": [],
   "source": [
    "fn_descripcion_dataFrame(df_prioridad_metal)\n",
    "df_prioridad_metal.head()"
   ]
  },
  {
   "cell_type": "markdown",
   "id": "4bf8cf29",
   "metadata": {},
   "source": [
    "### Nuevas variables"
   ]
  },
  {
   "cell_type": "markdown",
   "id": "eb79f0d0",
   "metadata": {},
   "source": [
    "Edad"
   ]
  },
  {
   "cell_type": "code",
   "execution_count": null,
   "id": "0950db85",
   "metadata": {},
   "outputs": [],
   "source": [
    "now = pd.Timestamp('now')\n",
    "df_data_tarjeta['Edad']=(now-df_data_tarjeta['FECHA_NACIMIENTO']).astype('<m8[Y]')  \n"
   ]
  },
  {
   "cell_type": "markdown",
   "id": "8202be58",
   "metadata": {},
   "source": [
    "Estado Civil"
   ]
  },
  {
   "cell_type": "code",
   "execution_count": null,
   "id": "35debcc3",
   "metadata": {},
   "outputs": [],
   "source": [
    "#Simplificar Casados y Unidos = Casad@ de lo contrario Solter@\n",
    "df_data_tarjeta[\"ESTADO_CIVIL\"] = np.where(((df_data_tarjeta[\"ESTADO_CIVIL\"] =='U')|(df_data_tarjeta[\"ESTADO_CIVIL\"] =='C')), 'C', 'S')"
   ]
  },
  {
   "cell_type": "code",
   "execution_count": null,
   "id": "88aa937d",
   "metadata": {},
   "outputs": [],
   "source": [
    "df_data_tarjeta['ESTADO_CIVIL'].unique()"
   ]
  },
  {
   "cell_type": "markdown",
   "id": "fa9c77f3",
   "metadata": {},
   "source": [
    "Se adiciona el agrupador de comercio"
   ]
  },
  {
   "cell_type": "code",
   "execution_count": null,
   "id": "b2add7c2",
   "metadata": {},
   "outputs": [],
   "source": [
    "df_data_tarjeta=(pd.merge(df_data_tarjeta, df_data_mcg[['TIPO_RUBRO','DESCRIPCION_MCG']], left_on='TIPO_RUBRO', right_on='TIPO_RUBRO'))"
   ]
  },
  {
   "cell_type": "code",
   "execution_count": null,
   "id": "684445af",
   "metadata": {},
   "outputs": [],
   "source": [
    "df_data_tarjeta[['C_RN','CL_RN','TIPO_RUBRO','DESCRIPCION_MCG']].head(3)"
   ]
  },
  {
   "cell_type": "code",
   "execution_count": null,
   "id": "afdea4c3",
   "metadata": {},
   "outputs": [],
   "source": [
    "df_data_tarjeta=(pd.merge(df_data_tarjeta, df_prioridad_metal, left_on='METAL_TJT', right_on='METAL_TJT'))"
   ]
  },
  {
   "cell_type": "code",
   "execution_count": null,
   "id": "8ef3418d",
   "metadata": {},
   "outputs": [],
   "source": [
    "df_data_tarjeta[['C_RN','CL_RN','METAL_TJT','IND_PRIORIDAD']].head(3)"
   ]
  },
  {
   "cell_type": "markdown",
   "id": "9d2ee547",
   "metadata": {},
   "source": [
    "Valor dolarizado de la transaccion, donde VISA envia en moneda loca y extranjera (distinta al dolar) convierte automaticamente a dolares."
   ]
  },
  {
   "cell_type": "code",
   "execution_count": null,
   "id": "2748de9e",
   "metadata": {
    "scrolled": true
   },
   "outputs": [],
   "source": [
    "#Dolarizamos en base al atributo de tasa de cambio, donde 320 es quetzales y 840 es dolares\n",
    "df_data_tarjeta['MONTO_DOLAR']=np.where(df_data_tarjeta['MONEDA_TRX']== 320, round((df_data_tarjeta['MONTO_TRX']/df_data_tarjeta['TASA_TRX']),2), round(df_data_tarjeta['MONTO_TRX'],2))"
   ]
  },
  {
   "cell_type": "code",
   "execution_count": null,
   "id": "e86e8110",
   "metadata": {
    "scrolled": true
   },
   "outputs": [],
   "source": [
    "df_data_tarjeta[['C_RN','CL_RN','MONTO_TRX','MONEDA_TRX','TASA_TRX','MONTO_DOLAR']].head(3)"
   ]
  },
  {
   "cell_type": "markdown",
   "id": "60a554b4",
   "metadata": {},
   "source": [
    "Año cosecha"
   ]
  },
  {
   "cell_type": "code",
   "execution_count": null,
   "id": "8bc75997",
   "metadata": {},
   "outputs": [],
   "source": [
    "df_data_tarjeta['ANIO_COSECHA']=df_data_tarjeta['FEC_COSECHA'].dt.year "
   ]
  },
  {
   "cell_type": "markdown",
   "id": "3faed838",
   "metadata": {},
   "source": [
    "Se valida que no existan **valores perdidos**"
   ]
  },
  {
   "cell_type": "code",
   "execution_count": null,
   "id": "c72cb56e",
   "metadata": {
    "scrolled": false
   },
   "outputs": [],
   "source": [
    "df_data_tarjeta.isna().sum()"
   ]
  },
  {
   "cell_type": "code",
   "execution_count": null,
   "id": "af2e66b4",
   "metadata": {
    "scrolled": true
   },
   "outputs": [],
   "source": [
    "fn_descripcion_dataFrame(df_data_tarjeta)\n",
    "df_data_tarjeta.head()"
   ]
  },
  {
   "cell_type": "markdown",
   "id": "2b524526",
   "metadata": {},
   "source": [
    "## Reconstruccion"
   ]
  },
  {
   "cell_type": "markdown",
   "id": "24a260ee",
   "metadata": {},
   "source": [
    "#### Fecha"
   ]
  },
  {
   "cell_type": "code",
   "execution_count": null,
   "id": "8d709176",
   "metadata": {
    "scrolled": true
   },
   "outputs": [],
   "source": [
    "#Obtener la edad promedio por metal y asignar, las politicas del banco regulan el otorgar el plastico en base a la edad o record crediticio.\n",
    "df_edad_metal=df_data_tarjeta.drop_duplicates(['Edad','METAL_TJT'])[['Edad','METAL_TJT']]\n",
    "#Eliiminamos las observaciones que necesitamos reconstruir\n",
    "df_edad_metal = df_edad_metal[df_edad_metal['Edad'].notna()]\n",
    "#Obtener la edad Promedio por metal\n",
    "df_edad_metal=df_edad_metal.groupby(\"METAL_TJT\", as_index=False).agg({\"Edad\":\"mean\"})\n",
    "df_edad_metal['Edad']=round(df_edad_metal['Edad'],0)\n",
    "df_edad_metal.rename(columns={'Edad':'Edad_promedio'},inplace=True)\n",
    "df_edad_metal"
   ]
  },
  {
   "cell_type": "markdown",
   "id": "0c33b50a",
   "metadata": {},
   "source": [
    "Reemplazar los valores nulos por Edad Promedio"
   ]
  },
  {
   "cell_type": "code",
   "execution_count": null,
   "id": "80805c2a",
   "metadata": {},
   "outputs": [],
   "source": [
    "d_ex=df_data_tarjeta#[df_data_tarjeta['Edad'].isna()].head()\n",
    "df_data_tarjeta=(pd.merge(df_data_tarjeta, df_edad_metal, left_on='METAL_TJT', right_on='METAL_TJT'))\n",
    "df_data_tarjeta ['Edad'] =np.where(df_data_tarjeta['Edad'].isna(), df_data_tarjeta['Edad_promedio'], df_data_tarjeta['Edad'])\n",
    "del df_data_tarjeta['Edad_promedio']\n",
    "del df_data_tarjeta['FECHA_NACIMIENTO']\n",
    "df_data_tarjeta.isna().sum()"
   ]
  },
  {
   "cell_type": "code",
   "execution_count": null,
   "id": "bc421c5a",
   "metadata": {
    "scrolled": true
   },
   "outputs": [],
   "source": [
    "df_data_tarjeta.head()"
   ]
  },
  {
   "cell_type": "markdown",
   "id": "c26a2e67",
   "metadata": {},
   "source": [
    "#### Exportar datos modelo - Regresion Multiple"
   ]
  },
  {
   "cell_type": "markdown",
   "id": "d18a0ac2",
   "metadata": {},
   "source": [
    "# Modelado de Datos"
   ]
  },
  {
   "cell_type": "code",
   "execution_count": null,
   "id": "da9afb73",
   "metadata": {},
   "outputs": [],
   "source": [
    " df_data_tarjeta.to_csv('Data\\DF_Data_transaccional.csv', index=False)"
   ]
  },
  {
   "cell_type": "markdown",
   "id": "4789a02d",
   "metadata": {},
   "source": [
    "Obtener los montos por transaccion de los clientes"
   ]
  },
  {
   "cell_type": "code",
   "execution_count": null,
   "id": "7c9f17fc",
   "metadata": {
    "scrolled": true
   },
   "outputs": [],
   "source": [
    "#df_agrupado_metal=df_data_tarjeta.groupby(\"METAL_TJT\", as_index=False).agg({\"Edad\":\"mean\"})\n",
    "resumen_categorias_top=df_data_tarjeta.groupby(['C_RN','DESCRIPCION_MCG'])[[\"MONTO_DOLAR\"]].sum()\n",
    "\n",
    "resumen_categorias_top.reset_index(drop=False,inplace=True)\n",
    "resumen_categorias_top.head()\n"
   ]
  },
  {
   "cell_type": "markdown",
   "id": "e4c6f48e",
   "metadata": {},
   "source": [
    "Analisis de cuantos **comercios distintos** en promedio presenta la poblacion"
   ]
  },
  {
   "cell_type": "code",
   "execution_count": null,
   "id": "69d6b261",
   "metadata": {},
   "outputs": [],
   "source": [
    "df_agrupado_por_comercio=resumen_categorias_top.groupby(\"C_RN\", as_index=False).agg({\"DESCRIPCION_MCG\":\"count\"})\n",
    "df_agrupado_por_comercio['DESCRIPCION_MCG'].describe()"
   ]
  },
  {
   "cell_type": "markdown",
   "id": "918ef3f4",
   "metadata": {},
   "source": [
    "Se determina implementar unicamente el comercio con mayor consumo del top 3 que se calculara debibo a la volumetria de transacciones."
   ]
  },
  {
   "cell_type": "code",
   "execution_count": null,
   "id": "b72fa319",
   "metadata": {
    "scrolled": true
   },
   "outputs": [],
   "source": [
    "resumen_categorias_cliente=df_data_tarjeta.groupby(['CL_RN','DESCRIPCION_MCG'])[[\"MONTO_DOLAR\"]].sum()\n",
    "resumen_categorias_cliente.reset_index(drop=False,inplace=True)\n",
    "resumen_categorias_cliente.head()"
   ]
  },
  {
   "cell_type": "markdown",
   "id": "5c149ffb",
   "metadata": {},
   "source": [
    "Pivot de informacion"
   ]
  },
  {
   "cell_type": "code",
   "execution_count": null,
   "id": "8ae70b02",
   "metadata": {
    "scrolled": false
   },
   "outputs": [],
   "source": [
    "df_consumos_pivot = resumen_categorias_cliente.pivot(index=\"CL_RN\", columns=\"DESCRIPCION_MCG\", values=\"MONTO_DOLAR\")\\\n",
    "       .reset_index().rename_axis(None, axis=1)\n",
    "df_consumos_pivot=df_consumos_pivot.fillna('0')\n",
    "df_consumos_pivot.set_index(\"CL_RN\", inplace = True)"
   ]
  },
  {
   "cell_type": "code",
   "execution_count": null,
   "id": "45d24d08",
   "metadata": {
    "scrolled": true
   },
   "outputs": [],
   "source": [
    "scaler = MinMaxScaler()\n",
    "scaled_features = scaler.fit_transform(df_consumos_pivot.values)\n",
    "df_consumos_pivot = pd.DataFrame(scaled_features, index=df_consumos_pivot.index, columns=df_consumos_pivot.columns)"
   ]
  },
  {
   "cell_type": "code",
   "execution_count": null,
   "id": "8c3d728f",
   "metadata": {},
   "outputs": [],
   "source": [
    "df_consumos_pivot.reset_index(drop=False,inplace=True)\n",
    "df_consumos_pivot.head()"
   ]
  },
  {
   "cell_type": "markdown",
   "id": "916eccf9",
   "metadata": {},
   "source": [
    "### Ponderar de forma descendente"
   ]
  },
  {
   "cell_type": "code",
   "execution_count": null,
   "id": "fe753672",
   "metadata": {},
   "outputs": [],
   "source": [
    "num_top = 3\n",
    "indicators = ['ER', 'DO', 'ER']\n",
    "\n",
    "# crear las columnas acorde al numero de grupos de comercios con mayor consumo\n",
    "columnas = ['CL_RN']\n",
    "for ind in np.arange(num_top):\n",
    "    try:\n",
    "        columnas.append('{}{}_MCG'.format(ind+1, indicators[ind]))\n",
    "    except:\n",
    "        columnas.append('{}th MCG'.format(ind+1))\n",
    "        \n",
    "\n",
    "df_clientes_mcg_ordenado = pd.DataFrame(columns=columnas)\n",
    "df_clientes_mcg_ordenado['CL_RN'] = df_consumos_pivot['CL_RN']\n",
    "\n",
    "for ind in np.arange(df_consumos_pivot.shape[0]):\n",
    "    w_rank=    retornat_top_mcg(df_consumos_pivot.iloc[ind, 1:], num_top)   \n",
    "    df_clientes_mcg_ordenado.iloc[ind, 1:] =w_rank\n",
    "    \n",
    "\n",
    "df_clientes_mcg_ordenado.head()"
   ]
  },
  {
   "cell_type": "code",
   "execution_count": null,
   "id": "fdbd9016",
   "metadata": {
    "scrolled": false
   },
   "outputs": [],
   "source": [
    "#df_clientes_mcg_ordenado.head()\n",
    "df_clientes_mcg_ordenado=df_clientes_mcg_ordenado[['CL_RN','1ER_MCG']]\n",
    "df_clientes_mcg_ordenado.rename(columns={'1ER_MCG':'COMERCIO_CON_MAS_CONSUMO'},inplace=True)\n",
    "df_clientes_mcg_ordenado.head()"
   ]
  },
  {
   "cell_type": "markdown",
   "id": "e87c4824",
   "metadata": {},
   "source": [
    "### Variables por cliente"
   ]
  },
  {
   "cell_type": "markdown",
   "id": "2c78b15c",
   "metadata": {},
   "source": [
    "Se obtiene las variables por clientes, con los siguiente cristerior: \n",
    "*1.* ponderando el pago de contado coomo N contagiando los registros del cliente durante el perioro evaluado.\n",
    "*2.* Obtenemos la maxima categoria obtenida por cliente entre tu cartera de cartejas."
   ]
  },
  {
   "cell_type": "code",
   "execution_count": null,
   "id": "7aeedd0b",
   "metadata": {},
   "outputs": [],
   "source": [
    "df_rsm_cliente=df_data_tarjeta.groupby(['CL_RN','LIM_CREDITO','ANIO_COSECHA','COD_MORA','Edad']).agg(PAGO_CONTADO=('PAGO_CONTADO',min),METAL_TJT=('IND_PRIORIDAD',max))\n",
    "df_rsm_cliente.reset_index(drop=False,inplace=True)\n",
    "df_rsm_cliente.head()"
   ]
  },
  {
   "cell_type": "markdown",
   "id": "2cbb3520",
   "metadata": {},
   "source": [
    "### Rangos de edades"
   ]
  },
  {
   "cell_type": "code",
   "execution_count": null,
   "id": "2a61b822",
   "metadata": {
    "scrolled": true
   },
   "outputs": [],
   "source": [
    "df_data_df_rango_edad.head()"
   ]
  },
  {
   "cell_type": "code",
   "execution_count": null,
   "id": "91a15e1f",
   "metadata": {},
   "outputs": [],
   "source": [
    "a_pivot = df_rsm_cliente['Edad'].values\n",
    "bl_max = df_data_df_rango_edad['RANGO_FIN'].values\n",
    "bl_min = df_data_df_rango_edad['RANGO_INI'].values\n",
    "i, j = np.where((a_pivot[:, None] >= bl_min) & (a_pivot[:, None] <=bl_max))"
   ]
  },
  {
   "cell_type": "markdown",
   "id": "2ecd518f",
   "metadata": {},
   "source": [
    "Integrar rango de fechas **between**"
   ]
  },
  {
   "cell_type": "code",
   "execution_count": null,
   "id": "9a203740",
   "metadata": {},
   "outputs": [],
   "source": [
    "#LEFT JOIN \n",
    "#Tip: .append en adelante\n",
    "df_left_join=pd.concat([\n",
    "    df_rsm_cliente.loc[i, :].reset_index(drop=True),\n",
    "    df_data_df_rango_edad.loc[j, :].reset_index(drop=True)\n",
    "], axis=1).append(\n",
    "    df_rsm_cliente[~np.in1d(np.arange(len(df_rsm_cliente)), np.unique(i))],\n",
    "    ignore_index=True, sort=False\n",
    ")"
   ]
  },
  {
   "cell_type": "code",
   "execution_count": null,
   "id": "e7252996",
   "metadata": {},
   "outputs": [],
   "source": [
    "fn_descripcion_dataFrame(df_left_join)"
   ]
  },
  {
   "cell_type": "code",
   "execution_count": null,
   "id": "a8d484f8",
   "metadata": {},
   "outputs": [],
   "source": [
    "df_cliente=(pd.merge(df_clientes_mcg_ordenado, df_left_join[['CL_RN','LIM_CREDITO','ANIO_COSECHA','COD_MORA','PAGO_CONTADO','METAL_TJT','COD_RANGO_EDAD','Edad']], left_on='CL_RN', right_on='CL_RN'))\n",
    "fn_descripcion_dataFrame(df_cliente)\n",
    "print('\\nValidamos campos perdidos.')\n",
    "df_cliente.isna().sum()"
   ]
  },
  {
   "cell_type": "code",
   "execution_count": null,
   "id": "841c5023",
   "metadata": {
    "scrolled": true
   },
   "outputs": [],
   "source": [
    "df_cliente.head()"
   ]
  },
  {
   "cell_type": "markdown",
   "id": "3940e4e4",
   "metadata": {},
   "source": [
    "### Guardar dataframe to CSV"
   ]
  },
  {
   "cell_type": "code",
   "execution_count": null,
   "id": "dd1d8bec",
   "metadata": {},
   "outputs": [],
   "source": [
    " df_cliente.to_csv('Data\\DF_Data_depurada.csv', index=False)"
   ]
  },
  {
   "cell_type": "code",
   "execution_count": null,
   "id": "d53e92af",
   "metadata": {},
   "outputs": [],
   "source": [
    "profile = ProfileReport(df_cliente, title=\"Analisis - Enrique Magnani - Pandas Profile\")\n",
    "profile.to_file(\"/Reporte_data_depurada.html\")"
   ]
  }
 ],
 "metadata": {
  "kernelspec": {
   "display_name": "Python 3",
   "language": "python",
   "name": "python3"
  },
  "language_info": {
   "codemirror_mode": {
    "name": "ipython",
    "version": 3
   },
   "file_extension": ".py",
   "mimetype": "text/x-python",
   "name": "python",
   "nbconvert_exporter": "python",
   "pygments_lexer": "ipython3",
   "version": "3.8.8"
  }
 },
 "nbformat": 4,
 "nbformat_minor": 5
}
